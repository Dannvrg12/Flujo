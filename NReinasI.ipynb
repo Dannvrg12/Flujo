{
  "nbformat": 4,
  "nbformat_minor": 0,
  "metadata": {
    "colab": {
      "provenance": [],
      "authorship_tag": "ABX9TyNSrI5OFPTvsDCoaJcq1z1Z",
      "include_colab_link": true
    },
    "kernelspec": {
      "name": "python3",
      "display_name": "Python 3"
    },
    "language_info": {
      "name": "python"
    }
  },
  "cells": [
    {
      "cell_type": "markdown",
      "metadata": {
        "id": "view-in-github",
        "colab_type": "text"
      },
      "source": [
        "<a href=\"https://colab.research.google.com/github/Dannvrg12/Flujo/blob/main/NReinasI.ipynb\" target=\"_parent\"><img src=\"https://colab.research.google.com/assets/colab-badge.svg\" alt=\"Open In Colab\"/></a>"
      ]
    },
    {
      "cell_type": "markdown",
      "source": [
        "Problema de N-Reinas\n",
        "\n",
        "\n",
        "1.Introduccion\n",
        "\n",
        "El problema de las n-Reinas consiste en encontrar una distribucion de n reinas en un tablero de ajedrez\n",
        "de n x n de modo tal, que estas no se ataquen. Asi, no pueden encontrarse dos reinas en la misma fila,\n",
        "columna o diagonal.\n",
        "Este problema tiene 2 Versiones. La mas simple consiste en encontrar exactamente una solucion valida\n",
        "para un valor n dado. La otra version, m ́as difıcil, consiste en encontrar todas las soluciones posibles para\n",
        "un valor n.\n",
        "Fue propuesto para n = 8 en el a ̃no 1848 en un trabajo anonimo, siendo posteriormente atribuido a\n",
        "Max Bezzel. Sin embargo, la publicacion detallada mas antigua que se conoce fue realizada por Nauck\n",
        "en 1850. Ese mismo año, Gauss postulo la existencia de 72 soluciones para n = 8. Posteriormente, en el año\n",
        "1874, Glaisher probo la existencia de 92 soluciones.\n"
      ],
      "metadata": {
        "id": "BN5Vco7ave85"
      }
    },
    {
      "cell_type": "code",
      "source": [
        "def es_seguro(tablero, fila, columna):\n",
        "    for i in range(fila):\n",
        "        if tablero[i] == columna or \\\n",
        "           tablero[i] - i == columna - fila or \\\n",
        "           tablero[i] + i == columna + fila:\n",
        "            return False\n",
        "    return True\n",
        "#Si tablero[i] == columna, significa que hay una reina en la misma columna.\n",
        "#tablero[i] - i: Representa la posición de la reina en la diagonal superior izquierda.Cuando tablero[i] - i == columna - fila, significa que hay una reina en la misma diagonal.\n",
        "#tablero[i] + i: Representa la posición de la reina en la diagonal superior derecha.Cuando tablero[i] + i == columna + fila, significa que hay una reina en la misma diagonal.\n"
      ],
      "metadata": {
        "id": "91862d4B85u9"
      },
      "execution_count": 17,
      "outputs": []
    },
    {
      "cell_type": "markdown",
      "source": [
        "Haciendo un enfoque de Backtracking se define la funcion es_seguro para verificar si es seguro colocar una reina en la posición (fila, columna).\n",
        "El estado se representa mediante un arreglo tablero, donde tablero[i] es la columna en la que se encuentra la reina cuando esta en la fila i."
      ],
      "metadata": {
        "id": "zvL42Lh91xQG"
      }
    },
    {
      "cell_type": "code",
      "source": [
        "def resolver_n_reinas_util(tablero, fila, n):\n",
        "    if fila == n:\n",
        "        return [list(tablero)]\n",
        "\n",
        "    soluciones = []\n",
        "    for columna in range(n):\n",
        "        if es_seguro(tablero, fila, columna):\n",
        "            tablero[fila] = columna\n",
        "            soluciones.extend(resolver_n_reinas_util(tablero, fila + 1, n))\n",
        "\n",
        "    return soluciones\n",
        "\n",
        "  # Esta función es una  recursiva que se utiliza para encontrar todas las soluciones al problema de las N reinas.\n",
        "\n",
        " # La función contiene una condición de parada que verifica si todas las reinas han sido colocadas (fila == n). Si esto pasa ,la función retorna una lista que representa una solución válida del tablero.\n",
        "\n",
        "# (soluciones = []) Se inicializa una lista llamada soluciones para almacenar todas las soluciones encontradas.\n",
        "\n",
        "#(for columna in range(n):) aca la  función utiliza un bucle for para iterar a través de todas las columnas en la fila actual (range(n)).\n",
        "\n",
        "#(if es_seguro(tablero, fila, columna):)Para cada columna, se verifica si es seguro colocar una reina en esa posición utilizando la función es_seguro. Si es seguro, se procede.\n",
        "# Se actualiza el tablero colocando una reina en la posición (fila, columna).Se realiza una llamada recursiva a resolver_n_reinas_util para continuar con la siguiente fila (fila + 1).\n",
        "\n",
        "#(soluciones.extend(...)): Las soluciones encontradas en la llamada recursiva se extienden a la lista de soluciones actual. Esto se hace para acumular todas las soluciones válidas.\n",
        "\n",
        "#Retorno de Soluciones (return soluciones) Finalmente, la función retorna la lista de soluciones encontradas.\n"
      ],
      "metadata": {
        "id": "Ds2d4phq2v7Q"
      },
      "execution_count": 22,
      "outputs": []
    },
    {
      "cell_type": "markdown",
      "source": [
        "La función resolver_n_reinas_util(tablero, fila, n) es una función recursiva que \"recorre\" todas las posibles combinaciones.\n",
        "En cada llamada, se intenta colocar una reina en la fila actual (fila) probando todas las columnas.\n",
        "Si una posición es segura, se realiza una llamada recursiva para la siguiente fila."
      ],
      "metadata": {
        "id": "Bk9z3LyM3Oya"
      }
    },
    {
      "cell_type": "code",
      "source": [
        "def resolver_n_reinas(n):\n",
        "    tablero = [-1] * n\n",
        "    return resolver_n_reinas_util(tablero, 0, n)\n",
        "\n",
        " #Esta función es la función principal que inicializa el tablero y llama a la función resolver_n_reinas_util con los parámetros iniciales.\n",
        " #Se inicializa una lista llamada tablero con valores -1, indicando que inicialmente no hay reinas colocadas en el tablero.\n",
        " #La función llama a resolver_n_reinas_util con el tablero inicializado, comenzando desde la fila 0 y especificando el tamaño del tablero.\n",
        " #La función retorna el resultado de la llamada a resolver_n_reinas_util, que es una lista de todas las soluciones encontradas."
      ],
      "metadata": {
        "id": "AA6c0SlRAb_e"
      },
      "execution_count": 20,
      "outputs": []
    },
    {
      "cell_type": "markdown",
      "source": [
        "Esta función es la función principal que inicializa el tablero y llama a la función resolver_n_reinas_util con los parámetros iniciales."
      ],
      "metadata": {
        "id": "0Ye9VbMSAjoU"
      }
    },
    {
      "cell_type": "code",
      "source": [
        "n = 4\n",
        "soluciones = resolver_n_reinas(n)\n",
        "print(soluciones[0])\n"
      ],
      "metadata": {
        "colab": {
          "base_uri": "https://localhost:8080/"
        },
        "id": "ow7lwgwjBd_Y",
        "outputId": "0b282bde-e832-4fa8-c249-f51936b1109b"
      },
      "execution_count": 30,
      "outputs": [
        {
          "output_type": "stream",
          "name": "stdout",
          "text": [
            "[1, 3, 0, 2]\n"
          ]
        }
      ]
    },
    {
      "cell_type": "code",
      "source": [
        "for solucion in soluciones:\n",
        "    print(solucion)\n"
      ],
      "metadata": {
        "colab": {
          "base_uri": "https://localhost:8080/"
        },
        "id": "y1d4_h09DYQB",
        "outputId": "8576ff9b-72c6-4d9c-cb22-53c7d4daf226"
      },
      "execution_count": 31,
      "outputs": [
        {
          "output_type": "stream",
          "name": "stdout",
          "text": [
            "[1, 3, 0, 2]\n",
            "[2, 0, 3, 1]\n"
          ]
        }
      ]
    }
  ]
}