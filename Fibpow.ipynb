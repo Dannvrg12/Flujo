{
  "nbformat": 4,
  "nbformat_minor": 0,
  "metadata": {
    "colab": {
      "provenance": []
    },
    "kernelspec": {
      "name": "python3",
      "display_name": "Python 3"
    },
    "language_info": {
      "name": "python"
    }
  },
  "cells": [
    {
      "cell_type": "markdown",
      "source": [
        "Para las preguntas ¿Que numero de fibonacci menores que 10 a la 20 son cuadrados ? ¿Que numero de fibonacci menores que 10 a la 20 son cubos ? ¿Que numero de fibonacci menores que 10 a la 20 son cuartas ? se tiene el siguiente codigo que nos da los numeros que cumplen las condiciones."
      ],
      "metadata": {
        "id": "P64JBRnpJEvw"
      }
    },
    {
      "cell_type": "code",
      "execution_count": null,
      "metadata": {
        "id": "euUA9ADcI8wc"
      },
      "outputs": [],
      "source": [
        "from sympy import sqrt\n",
        "\n",
        "def es_potencia(n, pot):\n",
        "    return n ** (1/pot) == int(n ** (1/pot))\n",
        "\n",
        "def potencias_fibonacci(n, pot_range):\n",
        "    fibs = {pot: [] for pot in pot_range}\n",
        "    a, b = 0, 1\n",
        "    while a < n:\n",
        "        for pot in pot_range:\n",
        "            if es_potencia(a, pot):\n",
        "                fibs[pot].append(a)\n",
        "        a, b = b, a + b\n",
        "    return fibs\n",
        "\n",
        "n = 10 ** 20  # 10 elevado a la 20\n",
        "pot_range = [2, 3, 4]\n",
        "potencias = potencias_fibonacci(n, pot_range)\n",
        "\n",
        "for pot, fib_list in potencias.items():\n",
        "    print(f\"Números de Fibonacci menores que 10^20 que son potencias de {pot}: {fib_list}\")\n",
        "\n"
      ]
    },
    {
      "cell_type": "markdown",
      "source": [
        "En el siguiente articulo se encuentran estas preguntas de forma mas formal matematicamente, en el se encuentra una demostracion de por que son los unicos numeros para cada pregunta.\n",
        "https://annals.math.princeton.edu/wp-content/uploads/annals-v163-n3-p05.pdf"
      ],
      "metadata": {
        "id": "o7NoyoWKJoad"
      }
    }
  ]
}