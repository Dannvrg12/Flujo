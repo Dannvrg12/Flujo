{
  "nbformat": 4,
  "nbformat_minor": 0,
  "metadata": {
    "colab": {
      "provenance": [],
      "authorship_tag": "ABX9TyNeoyjwGgVDekn8051yHWUD",
      "include_colab_link": true
    },
    "kernelspec": {
      "name": "python3",
      "display_name": "Python 3"
    },
    "language_info": {
      "name": "python"
    }
  },
  "cells": [
    {
      "cell_type": "markdown",
      "metadata": {
        "id": "view-in-github",
        "colab_type": "text"
      },
      "source": [
        "<a href=\"https://colab.research.google.com/github/Dannvrg12/Flujo/blob/main/Complejos.ipynb\" target=\"_parent\"><img src=\"https://colab.research.google.com/assets/colab-badge.svg\" alt=\"Open In Colab\"/></a>"
      ]
    },
    {
      "cell_type": "code",
      "source": [
        "from sympy import sqrt\n",
        "\n",
        "class Complejo:\n",
        "    def __init__(self, parte_real, parte_imaginaria):\n",
        "        self.r = parte_real\n",
        "        self.i = parte_imaginaria\n",
        "\n",
        "    def __repr__(self):\n",
        "        return f\"Complejo({self.r}, {self.i})\"\n",
        "\n",
        "    def __add__(self, other):\n",
        "        return Complejo(self.r + other.r, self.i + other.i)\n",
        "\n",
        "    def __sub__(self, other):\n",
        "        return Complejo(self.r - other.r, self.i - other.i)\n",
        "\n",
        "    def __mul__(self, other):\n",
        "        # (a + bi) * (c + di) = (ac - bd) + (ad + bc)i\n",
        "        real_part = self.r * other.r - self.i * other.i\n",
        "        imag_part = self.r * other.i + self.i * other.r\n",
        "        return Complejo(real_part, imag_part)\n",
        "\n",
        "    def módulo(self):\n",
        "        return sqrt(self.r**2 + self.i**2)\n",
        "\n",
        "# Ejemplo de uso\n",
        "z = Complejo(2, -1)\n",
        "w = Complejo(3, 4)\n",
        "\n",
        "# Suma\n",
        "suma = z + w\n",
        "print(f\"Suma: {suma}\")\n",
        "\n",
        "# Resta\n",
        "resta = z - w\n",
        "print(f\"Resta: {resta}\")\n",
        "\n",
        "# Multiplicación\n",
        "multiplicación = z * w\n",
        "print(f\"Multiplicación: {multiplicación}\")\n"
      ],
      "metadata": {
        "colab": {
          "base_uri": "https://localhost:8080/"
        },
        "id": "HYn7ydF4qgeU",
        "outputId": "359883e3-df7a-4e80-a51e-d340cfefaf80"
      },
      "execution_count": 2,
      "outputs": [
        {
          "output_type": "stream",
          "name": "stdout",
          "text": [
            "Suma: Complejo(5, 3)\n",
            "Resta: Complejo(-1, -5)\n",
            "Multiplicación: Complejo(10, 5)\n"
          ]
        }
      ]
    }
  ]
}