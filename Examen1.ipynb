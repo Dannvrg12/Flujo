{
  "nbformat": 4,
  "nbformat_minor": 0,
  "metadata": {
    "colab": {
      "provenance": [],
      "authorship_tag": "ABX9TyPdY18lBCgxKsElz7VvJBbC",
      "include_colab_link": true
    },
    "kernelspec": {
      "name": "python3",
      "display_name": "Python 3"
    },
    "language_info": {
      "name": "python"
    }
  },
  "cells": [
    {
      "cell_type": "markdown",
      "metadata": {
        "id": "view-in-github",
        "colab_type": "text"
      },
      "source": [
        "<a href=\"https://colab.research.google.com/github/Dannvrg12/Flujo/blob/main/Examen1.ipynb\" target=\"_parent\"><img src=\"https://colab.research.google.com/assets/colab-badge.svg\" alt=\"Open In Colab\"/></a>"
      ]
    },
    {
      "cell_type": "markdown",
      "source": [
        "Elegi la opcion 2 que nos pide resolver lo siguiente \"Dado un entero positivo n, determinar la lista de todos los números de Fibonacci menores que n que sean múltiplos de 5\""
      ],
      "metadata": {
        "id": "7i2fj8vVPnJB"
      }
    },
    {
      "cell_type": "code",
      "source": [
        "\n",
        "def fibonacci_múltiplos_de_5(n):\n",
        "    a, b = 0, 1\n",
        "    fibonacci_list = []\n",
        "\n",
        "    while a < n:\n",
        "        if a % 5 == 0:\n",
        "            fibonacci_list.append(a)\n",
        "        a, b = b, a + b\n",
        "\n",
        "    return fibonacci_list\n",
        "n=100\n",
        "resultado =fibonacci_múltiplos_de_5(n)\n",
        "print(resultado)\n"
      ],
      "metadata": {
        "colab": {
          "base_uri": "https://localhost:8080/"
        },
        "id": "U3LYYKvURDQT",
        "outputId": "a0c5766e-569c-4b0a-8d36-62ce76b15cb0"
      },
      "execution_count": 17,
      "outputs": [
        {
          "output_type": "stream",
          "name": "stdout",
          "text": [
            "[0, 5, 55]\n"
          ]
        }
      ]
    }
  ]
}